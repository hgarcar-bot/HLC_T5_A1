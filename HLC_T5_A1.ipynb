{
 "cells": [
  {
   "cell_type": "code",
   "execution_count": 16,
   "id": "e92acc84-0e79-4f09-b632-80fa138ee33f",
   "metadata": {},
   "outputs": [
    {
     "name": "stdin",
     "output_type": "stream",
     "text": [
      "¿Cómo te llamas? helen\n"
     ]
    },
    {
     "name": "stdout",
     "output_type": "stream",
     "text": [
      "un gusto conocerte helen\n"
     ]
    }
   ],
   "source": [
    "#ejercicio1\n",
    "nombre = input(\"¿Cómo te llamas?\")\n",
    "print(\"un gusto conocerte\", nombre)"
   ]
  },
  {
   "cell_type": "code",
   "execution_count": 14,
   "id": "99621ee1-8213-4034-8875-882794d3c3ff",
   "metadata": {
    "scrolled": true
   },
   "outputs": [
    {
     "name": "stdin",
     "output_type": "stream",
     "text": [
      "introduce el primer número 1\n",
      "introduce el segundo número 2\n"
     ]
    },
    {
     "name": "stdout",
     "output_type": "stream",
     "text": [
      "el resultado es  3\n"
     ]
    }
   ],
   "source": [
    "#ejercicio2\n",
    "def cuadrado():\n",
    "    numero = suma + suma1\n",
    "    return numero\n",
    "suma = int(input(\"introduce el primer número\"))\n",
    "suma1 = int(input(\"introduce el segundo número\"))\n",
    "solu = cuadrado()\n",
    "print(\"el resultado es \",solu)"
   ]
  },
  {
   "cell_type": "code",
   "execution_count": 2,
   "id": "d7214c28-a6fe-436a-acb8-ae332c8295d9",
   "metadata": {},
   "outputs": [
    {
     "name": "stdin",
     "output_type": "stream",
     "text": [
      "introduce los grados 12\n"
     ]
    },
    {
     "name": "stdout",
     "output_type": "stream",
     "text": [
      "12 grados celsious son 44 grados Fahrenheit\n"
     ]
    }
   ],
   "source": [
    "#ejercicio3\n",
    "def cuadrado():\n",
    "    numero = suma + 32\n",
    "    return numero\n",
    "suma = int(input(\"introduce los grados\"))\n",
    "solu = cuadrado()\n",
    "print(suma,\"grados celsious son\",solu,\"grados Fahrenheit\")"
   ]
  },
  {
   "cell_type": "code",
   "execution_count": 22,
   "id": "e0dc5603-0324-4c47-b4d4-e0f4f541eaa5",
   "metadata": {},
   "outputs": [
    {
     "name": "stdin",
     "output_type": "stream",
     "text": [
      "introduce el número para ver su cuadrado 4\n"
     ]
    },
    {
     "name": "stdout",
     "output_type": "stream",
     "text": [
      "el cuadrado de 4 es 16\n"
     ]
    }
   ],
   "source": [
    "#ejercicio4\n",
    "def cuadrado():\n",
    "    numero = suma * suma\n",
    "    return numero\n",
    "suma = int(input(\"introduce el número para ver su cuadrado\"))\n",
    "solu = cuadrado()\n",
    "print(\"el cuadrado de\",suma,\"es\",solu)"
   ]
  },
  {
   "cell_type": "code",
   "execution_count": 26,
   "id": "86b28b1f-d97f-4118-804b-619817e2bf99",
   "metadata": {},
   "outputs": [
    {
     "name": "stdin",
     "output_type": "stream",
     "text": [
      "introduce tu edad 20\n"
     ]
    },
    {
     "name": "stdout",
     "output_type": "stream",
     "text": [
      "es mayor de edad\n"
     ]
    }
   ],
   "source": [
    "#ejercicio5\n",
    "def cuadrado():\n",
    "    if suma<18:\n",
    "        edad = (\"es menor de edad\")\n",
    "    else:\n",
    "        edad = (\"es mayor de edad\")\n",
    "    return edad\n",
    "suma = int(input(\"introduce tu edad\"))\n",
    "solu = cuadrado()\n",
    "print(solu)"
   ]
  },
  {
   "cell_type": "code",
   "execution_count": 31,
   "id": "4fed8f3f-7055-469d-b4ca-760de1e94099",
   "metadata": {},
   "outputs": [
    {
     "name": "stdin",
     "output_type": "stream",
     "text": [
      "introduce el primer número 1\n",
      "introduce el segundo número 2\n"
     ]
    },
    {
     "data": {
      "text/plain": [
       "'1 es menor que 2'"
      ]
     },
     "execution_count": 31,
     "metadata": {},
     "output_type": "execute_result"
    }
   ],
   "source": [
    "#ejercicio6\n",
    "def cuadrado():\n",
    "    if suma < suma1:\n",
    "        numero = (str(suma)+\" es menor que \"+str(suma1))\n",
    "    elif suma > suma1:\n",
    "            numero = (str(suma)+\" es mayor que \"+str(suma1))\n",
    "    return numero\n",
    "suma = int(input(\"introduce el primer número\"))\n",
    "suma1 = int(input(\"introduce el segundo número\"))\n",
    "cuadrado()\n"
   ]
  },
  {
   "cell_type": "code",
   "execution_count": 10,
   "id": "7a0d1d56-666e-4f26-a6c2-139ae09e7ecb",
   "metadata": {},
   "outputs": [
    {
     "name": "stdin",
     "output_type": "stream",
     "text": [
      "Primer nº 6\n",
      "Segundo nº 7\n"
     ]
    },
    {
     "name": "stdout",
     "output_type": "stream",
     "text": [
      "La suma de  6  y  7  es igual a  13\n"
     ]
    }
   ],
   "source": [
    "#ejercicio7\n",
    "def ejercicio7():\n",
    "    a = int(input(\"Primer nº\"))\n",
    "    b = int(input(\"Segundo nº\"))\n",
    "    resultado = a + b\n",
    "    print(\"La suma de \", a, \" y \", b, \" es igual a \", resultado)\n",
    "\n",
    "ejercicio7()"
   ]
  },
  {
   "cell_type": "code",
   "execution_count": 12,
   "id": "4cc14d83-46e3-4a82-8ebd-41ff70ab5725",
   "metadata": {},
   "outputs": [
    {
     "name": "stdin",
     "output_type": "stream",
     "text": [
      "Base:  2\n",
      "Altura  3\n",
      "Precio  5\n"
     ]
    },
    {
     "name": "stdout",
     "output_type": "stream",
     "text": [
      "Área =  6 metros cuadrados. Costo total = 15 unidades\n"
     ]
    }
   ],
   "source": [
    "#ejercicio8\n",
    "def ejercicio8():\n",
    "    a = int(input(\"Base: \"))\n",
    "    b = int(input(\"Altura \"))\n",
    "    c = int(input(\"Precio \"))\n",
    "    resultado = a * b\n",
    "    resultado2 = b * c\n",
    "    print(\"Área = \", resultado, \"metros cuadrados.\", \"Costo total =\", resultado2, \"unidades.\")\n",
    "\n",
    "ejercicio8()"
   ]
  },
  {
   "cell_type": "code",
   "execution_count": null,
   "id": "9b48cc30-bb6b-4e3e-baba-08a06822be86",
   "metadata": {},
   "outputs": [],
   "source": []
  }
 ],
 "metadata": {
  "kernelspec": {
   "display_name": "Python 3 (ipykernel)",
   "language": "python",
   "name": "python3"
  },
  "language_info": {
   "codemirror_mode": {
    "name": "ipython",
    "version": 3
   },
   "file_extension": ".py",
   "mimetype": "text/x-python",
   "name": "python",
   "nbconvert_exporter": "python",
   "pygments_lexer": "ipython3",
   "version": "3.13.0"
  }
 },
 "nbformat": 4,
 "nbformat_minor": 5
}
